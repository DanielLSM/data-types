{
 "cells": [
  {
   "cell_type": "code",
   "execution_count": 1,
   "metadata": {},
   "outputs": [],
   "source": [
    "logdir = 'data_array/'\n",
    "import numpy as np\n",
    "x = np.random.random((2000, 2000))"
   ]
  },
  {
   "cell_type": "code",
   "execution_count": 18,
   "metadata": {},
   "outputs": [
    {
     "name": "stdout",
     "output_type": "stream",
     "text": [
      "CPU times: user 46.3 ms, sys: 56.4 ms, total: 103 ms\n",
      "Wall time: 102 ms\n"
     ]
    }
   ],
   "source": [
    "import pickle\n",
    "%time pickle.dump(x,open(logdir+'x.pkl','wb'),protocol=0)"
   ]
  },
  {
   "cell_type": "code",
   "execution_count": 6,
   "metadata": {},
   "outputs": [],
   "source": [
    "import _pickle as cPickle\n",
    "%time cPickle.dump(x,open(logdir+'x.cpkl','wb'))"
   ]
  },
  {
   "cell_type": "code",
   "execution_count": 10,
   "metadata": {},
   "outputs": [
    {
     "name": "stdout",
     "output_type": "stream",
     "text": [
      "CPU times: user 930 ms, sys: 19.8 ms, total: 950 ms\n",
      "Wall time: 948 ms\n"
     ]
    }
   ],
   "source": [
    "import hickle\n",
    "%time hickle.dump(x,open(logdir+'x.hkl','w'), compression='gzip')"
   ]
  },
  {
   "cell_type": "code",
   "execution_count": 5,
   "metadata": {},
   "outputs": [],
   "source": [
    "import hickle\n",
    "k = hickle.load(logdir+'x.hkl')"
   ]
  },
  {
   "cell_type": "code",
   "execution_count": 6,
   "metadata": {},
   "outputs": [
    {
     "data": {
      "text/plain": [
       "array([[0.94395819, 0.92556078, 0.13164182, ..., 0.77651764, 0.41997287,\n",
       "        0.95955858],\n",
       "       [0.61121819, 0.97678407, 0.65052025, ..., 0.06337379, 0.22213284,\n",
       "        0.44793331],\n",
       "       [0.01702354, 0.04558505, 0.2679173 , ..., 0.08493753, 0.437424  ,\n",
       "        0.04649727],\n",
       "       ...,\n",
       "       [0.32789776, 0.65952641, 0.50600896, ..., 0.82465462, 0.90750269,\n",
       "        0.71215088],\n",
       "       [0.72635393, 0.60582504, 0.66100743, ..., 0.14946469, 0.86971202,\n",
       "        0.18332081],\n",
       "       [0.76351665, 0.0409705 , 0.35853323, ..., 0.21948575, 0.31904432,\n",
       "        0.59822802]])"
      ]
     },
     "execution_count": 6,
     "metadata": {},
     "output_type": "execute_result"
    }
   ],
   "source": [
    "k"
   ]
  },
  {
   "cell_type": "code",
   "execution_count": 14,
   "metadata": {},
   "outputs": [],
   "source": [
    "from json_tricks import dump, dumps, load, loads, strip_comments\n",
    "%time dump(x,open(logdir+'x.json','w'))"
   ]
  },
  {
   "cell_type": "code",
   "execution_count": 11,
   "metadata": {},
   "outputs": [
    {
     "name": "stdout",
     "output_type": "stream",
     "text": [
      "CPU times: user 982 ms, sys: 15.8 ms, total: 997 ms\n",
      "Wall time: 996 ms\n"
     ]
    }
   ],
   "source": [
    "import h5py\n",
    "with h5py.File(logdir+'x.h5_gzip', 'w') as f:\n",
    "    def write(dsetname, a):\n",
    "        f.create_dataset(dsetname, data=a, compression='gzip')\n",
    "    %time write('x',x)"
   ]
  },
  {
   "cell_type": "code",
   "execution_count": 9,
   "metadata": {},
   "outputs": [
    {
     "name": "stdout",
     "output_type": "stream",
     "text": [
      "CPU times: user 156 ms, sys: 7.98 ms, total: 164 ms\n",
      "Wall time: 165 ms\n"
     ]
    }
   ],
   "source": [
    "import h5py\n",
    "with h5py.File(logdir+'x.h5_lzf', 'w') as f:\n",
    "    def write(dsetname, a):\n",
    "        f.create_dataset(dsetname, data=a, compression='lzf')\n",
    "    %time write('x',x)"
   ]
  },
  {
   "cell_type": "code",
   "execution_count": 11,
   "metadata": {},
   "outputs": [
    {
     "name": "stdout",
     "output_type": "stream",
     "text": [
      "CPU times: user 31.5 ms, sys: 26.5 ms, total: 58 ms\n",
      "Wall time: 35.5 ms\n"
     ]
    },
    {
     "data": {
      "text/plain": [
       "carray((2000, 2000), float64)\n",
       "  nbytes := 30.52 MB; cbytes := 27.14 MB; ratio: 1.12\n",
       "  cparams := cparams(clevel=5, shuffle=1, cname='lz4', quantize=0)\n",
       "  chunklen := 32; chunksize: 512000; blocksize: 32768\n",
       "  rootdir := 'data_array/bcolz'\n",
       "  mode    := 'w'\n",
       "[[ 0.44688809  0.19545426  0.2484356  ...,  0.21988661  0.97806542\n",
       "   0.52447114]\n",
       " [ 0.68966819  0.41698948  0.56607713 ...,  0.49892793  0.28128249\n",
       "   0.30648438]\n",
       " [ 0.72289576  0.27805977  0.87664277 ...,  0.18781709  0.55098415\n",
       "   0.07410682]\n",
       " ..., \n",
       " [ 0.97569222  0.34713028  0.31985369 ...,  0.4988987   0.04436345\n",
       "   0.05717654]\n",
       " [ 0.08325323  0.08891162  0.59956499 ...,  0.58127371  0.51221409\n",
       "   0.32769882]\n",
       " [ 0.43096533  0.41487155  0.17468498 ...,  0.26030677  0.35408746\n",
       "   0.51229279]]"
      ]
     },
     "execution_count": 11,
     "metadata": {},
     "output_type": "execute_result"
    }
   ],
   "source": [
    "import bcolz\n",
    "%time bcolz.carray(x, rootdir=logdir+'bcolz', mode='w')"
   ]
  },
  {
   "cell_type": "code",
   "execution_count": 3,
   "metadata": {},
   "outputs": [],
   "source": [
    "import array_pb2"
   ]
  },
  {
   "cell_type": "code",
   "execution_count": 5,
   "metadata": {},
   "outputs": [],
   "source": [
    "def load_protobuf(path):\n",
    "    pb_data = array_pb2.NDArray()\n",
    "    pb_data.ParseFromString(open(path, 'r').read())\n",
    "    return np.array(pb_data.array, dtype=pb_data.dtype).reshape(tuple(pb_data.shape))"
   ]
  },
  {
   "cell_type": "code",
   "execution_count": 6,
   "metadata": {},
   "outputs": [
    {
     "name": "stdout",
     "output_type": "stream",
     "text": [
      "CPU times: user 569 ms, sys: 75.3 ms, total: 644 ms\n",
      "Wall time: 644 ms\n",
      "CPU times: user 490 ms, sys: 72.1 ms, total: 562 ms\n",
      "Wall time: 562 ms\n"
     ]
    }
   ],
   "source": [
    "parray = list(x.flatten().astype(int))\n",
    "with open(\"test1.pbf\", \"wb\") as pbf:\n",
    "    arr = array_pb2.NDArray()\n",
    "    arr.array.extend(parray)\n",
    "    arr.shape.extend(list(x.shape))\n",
    "    arr.dtype = x.dtype.name\n",
    "    pbf.write(arr.SerializeToString())\n",
    "\n",
    "# with open(\"test2.pbf\", \"wb\") as pbf:\n",
    "#     arr = array_pb2.NDArrayPacked()\n",
    "#     arr.array.extend(parray)\n",
    "#     arr.shape.extend(list(x.shape))\n",
    "#     arr.dtype = x.dtype.name\n",
    "#     pbf.write(arr.SerializeToString())\n",
    "\n",
    "%time arr8 = load_protobuf(\"test1.pbf\")\n",
    "%time arr8 = load_protobuf(\"test2.pbf\")"
   ]
  },
  {
   "cell_type": "code",
   "execution_count": null,
   "metadata": {},
   "outputs": [],
   "source": []
  }
 ],
 "metadata": {
  "kernelspec": {
   "display_name": "Python 3.6 (data-types)",
   "language": "python",
   "name": "myenv"
  },
  "language_info": {
   "codemirror_mode": {
    "name": "ipython",
    "version": 3
   },
   "file_extension": ".py",
   "mimetype": "text/x-python",
   "name": "python",
   "nbconvert_exporter": "python",
   "pygments_lexer": "ipython3",
   "version": "3.6.4"
  }
 },
 "nbformat": 4,
 "nbformat_minor": 2
}
