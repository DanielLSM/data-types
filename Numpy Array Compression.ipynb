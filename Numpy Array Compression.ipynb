{
 "cells": [
  {
   "cell_type": "code",
   "execution_count": 1,
   "metadata": {},
   "outputs": [],
   "source": [
    "logdir = 'data_array/'\n",
    "import numpy as np\n",
    "x = np.random.random((2000, 2000))"
   ]
  },
  {
   "cell_type": "code",
   "execution_count": 2,
   "metadata": {},
   "outputs": [
    {
     "name": "stdout",
     "output_type": "stream",
     "text": [
      "CPU times: user 10.9 ms, sys: 40.4 ms, total: 51.4 ms\n",
      "Wall time: 50.6 ms\n"
     ]
    }
   ],
   "source": [
    "import pickle\n",
    "%time pickle.dump(x,open(logdir+'x.pkl','wb'),protocol=4)"
   ]
  },
  {
   "cell_type": "code",
   "execution_count": 24,
   "metadata": {},
   "outputs": [
    {
     "name": "stdout",
     "output_type": "stream",
     "text": [
      "CPU times: user 22.9 ms, sys: 44.6 ms, total: 67.5 ms\n",
      "Wall time: 66.5 ms\n"
     ]
    }
   ],
   "source": [
    "import cloudpickle\n",
    "%time cloudpickle.dump(x,open(logdir+'x.cloud_pkl','wb'),protocol=4)"
   ]
  },
  {
   "cell_type": "code",
   "execution_count": 24,
   "metadata": {},
   "outputs": [],
   "source": [
    "import pickle\n",
    "import gzip\n",
    "def save_pickle(object, filename, protocol = pickle.HIGHEST_PROTOCOL):\n",
    "        \"\"\"Saves a compressed object to disk\n",
    "        \"\"\"\n",
    "        fil = gzip.GzipFile(filename, 'wb')\n",
    "        fil.write(pickle.dumps(object, protocol))\n",
    "        fil.close()\n",
    "def save_cPickle(object, filename, protocol = pickle.HIGHEST_PROTOCOL):\n",
    "        \"\"\"Saves a compressed object to disk\n",
    "        \"\"\"\n",
    "        fil = gzip.GzipFile(filename, 'wb')\n",
    "        fil.write(pickle.dumps(object, protocol))\n",
    "        fil.close()"
   ]
  },
  {
   "cell_type": "code",
   "execution_count": 42,
   "metadata": {},
   "outputs": [
    {
     "name": "stdout",
     "output_type": "stream",
     "text": [
      "CPU times: user 1.12 s, sys: 35 ms, total: 1.15 s\n",
      "Wall time: 1.15 s\n"
     ]
    }
   ],
   "source": [
    "def save_pickle(object, filename, protocol = pickle.HIGHEST_PROTOCOL):\n",
    "        \"\"\"Saves a compressed object to disk\n",
    "        \"\"\"\n",
    "        fil = gzip.GzipFile(logdir+'x.pklgz', 'wb')\n",
    "        fil.write(pickle.dumps(object, protocol))\n",
    "        fil.close()\n",
    "%time save_pickle(x,logdir+'x.pklgz')"
   ]
  },
  {
   "cell_type": "code",
   "execution_count": 31,
   "metadata": {},
   "outputs": [
    {
     "name": "stdout",
     "output_type": "stream",
     "text": [
      "CPU times: user 10.7 ms, sys: 31.7 ms, total: 42.4 ms\n",
      "Wall time: 41.8 ms\n"
     ]
    }
   ],
   "source": [
    "import _pickle as cPickle\n",
    "%time cPickle.dump(x,open(logdir+'x.cpkl','wb'),protocol=pickle.HIGHEST_PROTOCOL)"
   ]
  },
  {
   "cell_type": "code",
   "execution_count": 32,
   "metadata": {},
   "outputs": [
    {
     "name": "stdout",
     "output_type": "stream",
     "text": [
      "CPU times: user 1.12 s, sys: 27.3 ms, total: 1.14 s\n",
      "Wall time: 1.14 s\n"
     ]
    }
   ],
   "source": [
    "%time save_cPickle(x,logdir+'x.cpklgz')"
   ]
  },
  {
   "cell_type": "code",
   "execution_count": 11,
   "metadata": {},
   "outputs": [
    {
     "name": "stdout",
     "output_type": "stream",
     "text": [
      "CPU times: user 1.17 s, sys: 50.6 ms, total: 1.22 s\n",
      "Wall time: 1.23 s\n"
     ]
    }
   ],
   "source": [
    "import pickle\n",
    "import gzip\n",
    "fil = gzip.GzipFile(logdir+'x.cpkl_gzip', 'wb')\n",
    "%time fil.write(pickle.dumps(x, protocol=4))\n",
    "fil.close()"
   ]
  },
  {
   "cell_type": "code",
   "execution_count": 34,
   "metadata": {},
   "outputs": [
    {
     "name": "stdout",
     "output_type": "stream",
     "text": [
      "CPU times: user 933 ms, sys: 10.7 ms, total: 944 ms\n",
      "Wall time: 942 ms\n"
     ]
    }
   ],
   "source": [
    "import hickle\n",
    "%time hickle.dump(x,open(logdir+'x.hkl','w'), compression='gzip')"
   ]
  },
  {
   "cell_type": "code",
   "execution_count": 37,
   "metadata": {},
   "outputs": [
    {
     "name": "stdout",
     "output_type": "stream",
     "text": [
      "CPU times: user 1.34 ms, sys: 19.6 ms, total: 21 ms\n",
      "Wall time: 20.4 ms\n"
     ]
    }
   ],
   "source": [
    "import hickle\n",
    "%time hickle.dump(x,open(logdir+'x.hkl_zero','w'))"
   ]
  },
  {
   "cell_type": "code",
   "execution_count": 5,
   "metadata": {},
   "outputs": [],
   "source": [
    "import hickle\n",
    "k = hickle.load(logdir+'x.hkl')"
   ]
  },
  {
   "cell_type": "code",
   "execution_count": 1,
   "metadata": {},
   "outputs": [
    {
     "ename": "NameError",
     "evalue": "name 'x' is not defined",
     "output_type": "error",
     "traceback": [
      "\u001b[0;31m---------------------------------------------------------------------------\u001b[0m",
      "\u001b[0;31mNameError\u001b[0m                                 Traceback (most recent call last)",
      "\u001b[0;32m<timed eval>\u001b[0m in \u001b[0;36m<module>\u001b[0;34m()\u001b[0m\n",
      "\u001b[0;31mNameError\u001b[0m: name 'x' is not defined"
     ]
    }
   ],
   "source": [
    "from json_tricks import dump, dumps, load, loads, strip_comments\n",
    "%time dump(x,open(logdir+'x.json','w'))"
   ]
  },
  {
   "cell_type": "code",
   "execution_count": 41,
   "metadata": {},
   "outputs": [
    {
     "name": "stdout",
     "output_type": "stream",
     "text": [
      "CPU times: user 938 ms, sys: 0 ns, total: 938 ms\n",
      "Wall time: 935 ms\n"
     ]
    }
   ],
   "source": [
    "import h5py\n",
    "with h5py.File(logdir+'x.h5_gzip', 'w') as f:\n",
    "    def write(dsetname, a):\n",
    "        f.create_dataset(dsetname, data=a, compression='gzip')\n",
    "    %time write('x',x)"
   ]
  },
  {
   "cell_type": "code",
   "execution_count": 3,
   "metadata": {},
   "outputs": [
    {
     "ename": "OSError",
     "evalue": "Unable to create file (unable to truncate a file which is already open)",
     "output_type": "error",
     "traceback": [
      "\u001b[0;31m---------------------------------------------------------------------------\u001b[0m",
      "\u001b[0;31mOSError\u001b[0m                                   Traceback (most recent call last)",
      "\u001b[0;32m<ipython-input-3-634aebaaab9b>\u001b[0m in \u001b[0;36m<module>\u001b[0;34m()\u001b[0m\n\u001b[1;32m      1\u001b[0m \u001b[0;32mimport\u001b[0m \u001b[0mh5py\u001b[0m\u001b[0;34m\u001b[0m\u001b[0m\n\u001b[0;32m----> 2\u001b[0;31m \u001b[0mf\u001b[0m \u001b[0;34m=\u001b[0m \u001b[0mh5py\u001b[0m\u001b[0;34m.\u001b[0m\u001b[0mFile\u001b[0m\u001b[0;34m(\u001b[0m\u001b[0mlogdir\u001b[0m\u001b[0;34m+\u001b[0m\u001b[0;34m'x.h5_raw'\u001b[0m\u001b[0;34m,\u001b[0m \u001b[0;34m'w'\u001b[0m\u001b[0;34m)\u001b[0m\u001b[0;34m\u001b[0m\u001b[0m\n\u001b[0m\u001b[1;32m      3\u001b[0m \u001b[0mget_ipython\u001b[0m\u001b[0;34m(\u001b[0m\u001b[0;34m)\u001b[0m\u001b[0;34m.\u001b[0m\u001b[0mrun_line_magic\u001b[0m\u001b[0;34m(\u001b[0m\u001b[0;34m'time'\u001b[0m\u001b[0;34m,\u001b[0m \u001b[0;34m\"f.create_dataset('x', data=x)\"\u001b[0m\u001b[0;34m)\u001b[0m\u001b[0;34m\u001b[0m\u001b[0m\n\u001b[1;32m      4\u001b[0m \u001b[0mf\u001b[0m\u001b[0;34m.\u001b[0m\u001b[0mclose\u001b[0m\u001b[0;34m\u001b[0m\u001b[0m\n",
      "\u001b[0;32m~/anaconda3/envs/data-types/lib/python3.6/site-packages/h5py/_hl/files.py\u001b[0m in \u001b[0;36m__init__\u001b[0;34m(self, name, mode, driver, libver, userblock_size, swmr, **kwds)\u001b[0m\n\u001b[1;32m    267\u001b[0m             \u001b[0;32mwith\u001b[0m \u001b[0mphil\u001b[0m\u001b[0;34m:\u001b[0m\u001b[0;34m\u001b[0m\u001b[0m\n\u001b[1;32m    268\u001b[0m                 \u001b[0mfapl\u001b[0m \u001b[0;34m=\u001b[0m \u001b[0mmake_fapl\u001b[0m\u001b[0;34m(\u001b[0m\u001b[0mdriver\u001b[0m\u001b[0;34m,\u001b[0m \u001b[0mlibver\u001b[0m\u001b[0;34m,\u001b[0m \u001b[0;34m**\u001b[0m\u001b[0mkwds\u001b[0m\u001b[0;34m)\u001b[0m\u001b[0;34m\u001b[0m\u001b[0m\n\u001b[0;32m--> 269\u001b[0;31m                 \u001b[0mfid\u001b[0m \u001b[0;34m=\u001b[0m \u001b[0mmake_fid\u001b[0m\u001b[0;34m(\u001b[0m\u001b[0mname\u001b[0m\u001b[0;34m,\u001b[0m \u001b[0mmode\u001b[0m\u001b[0;34m,\u001b[0m \u001b[0muserblock_size\u001b[0m\u001b[0;34m,\u001b[0m \u001b[0mfapl\u001b[0m\u001b[0;34m,\u001b[0m \u001b[0mswmr\u001b[0m\u001b[0;34m=\u001b[0m\u001b[0mswmr\u001b[0m\u001b[0;34m)\u001b[0m\u001b[0;34m\u001b[0m\u001b[0m\n\u001b[0m\u001b[1;32m    270\u001b[0m \u001b[0;34m\u001b[0m\u001b[0m\n\u001b[1;32m    271\u001b[0m                 \u001b[0;32mif\u001b[0m \u001b[0mswmr_support\u001b[0m\u001b[0;34m:\u001b[0m\u001b[0;34m\u001b[0m\u001b[0m\n",
      "\u001b[0;32m~/anaconda3/envs/data-types/lib/python3.6/site-packages/h5py/_hl/files.py\u001b[0m in \u001b[0;36mmake_fid\u001b[0;34m(name, mode, userblock_size, fapl, fcpl, swmr)\u001b[0m\n\u001b[1;32m    103\u001b[0m         \u001b[0mfid\u001b[0m \u001b[0;34m=\u001b[0m \u001b[0mh5f\u001b[0m\u001b[0;34m.\u001b[0m\u001b[0mcreate\u001b[0m\u001b[0;34m(\u001b[0m\u001b[0mname\u001b[0m\u001b[0;34m,\u001b[0m \u001b[0mh5f\u001b[0m\u001b[0;34m.\u001b[0m\u001b[0mACC_EXCL\u001b[0m\u001b[0;34m,\u001b[0m \u001b[0mfapl\u001b[0m\u001b[0;34m=\u001b[0m\u001b[0mfapl\u001b[0m\u001b[0;34m,\u001b[0m \u001b[0mfcpl\u001b[0m\u001b[0;34m=\u001b[0m\u001b[0mfcpl\u001b[0m\u001b[0;34m)\u001b[0m\u001b[0;34m\u001b[0m\u001b[0m\n\u001b[1;32m    104\u001b[0m     \u001b[0;32melif\u001b[0m \u001b[0mmode\u001b[0m \u001b[0;34m==\u001b[0m \u001b[0;34m'w'\u001b[0m\u001b[0;34m:\u001b[0m\u001b[0;34m\u001b[0m\u001b[0m\n\u001b[0;32m--> 105\u001b[0;31m         \u001b[0mfid\u001b[0m \u001b[0;34m=\u001b[0m \u001b[0mh5f\u001b[0m\u001b[0;34m.\u001b[0m\u001b[0mcreate\u001b[0m\u001b[0;34m(\u001b[0m\u001b[0mname\u001b[0m\u001b[0;34m,\u001b[0m \u001b[0mh5f\u001b[0m\u001b[0;34m.\u001b[0m\u001b[0mACC_TRUNC\u001b[0m\u001b[0;34m,\u001b[0m \u001b[0mfapl\u001b[0m\u001b[0;34m=\u001b[0m\u001b[0mfapl\u001b[0m\u001b[0;34m,\u001b[0m \u001b[0mfcpl\u001b[0m\u001b[0;34m=\u001b[0m\u001b[0mfcpl\u001b[0m\u001b[0;34m)\u001b[0m\u001b[0;34m\u001b[0m\u001b[0m\n\u001b[0m\u001b[1;32m    106\u001b[0m     \u001b[0;32melif\u001b[0m \u001b[0mmode\u001b[0m \u001b[0;34m==\u001b[0m \u001b[0;34m'a'\u001b[0m\u001b[0;34m:\u001b[0m\u001b[0;34m\u001b[0m\u001b[0m\n\u001b[1;32m    107\u001b[0m         \u001b[0;31m# Open in append mode (read/write).\u001b[0m\u001b[0;34m\u001b[0m\u001b[0;34m\u001b[0m\u001b[0m\n",
      "\u001b[0;32mh5py/_objects.pyx\u001b[0m in \u001b[0;36mh5py._objects.with_phil.wrapper\u001b[0;34m()\u001b[0m\n",
      "\u001b[0;32mh5py/_objects.pyx\u001b[0m in \u001b[0;36mh5py._objects.with_phil.wrapper\u001b[0;34m()\u001b[0m\n",
      "\u001b[0;32mh5py/h5f.pyx\u001b[0m in \u001b[0;36mh5py.h5f.create\u001b[0;34m()\u001b[0m\n",
      "\u001b[0;31mOSError\u001b[0m: Unable to create file (unable to truncate a file which is already open)"
     ]
    }
   ],
   "source": [
    "import h5py\n",
    "f = h5py.File(logdir+'x.h5_raw', 'w')\n",
    "%time f.create_dataset('x', data=x)\n",
    "f.close"
   ]
  },
  {
   "cell_type": "code",
   "execution_count": 9,
   "metadata": {},
   "outputs": [
    {
     "name": "stdout",
     "output_type": "stream",
     "text": [
      "CPU times: user 920 ms, sys: 13.6 ms, total: 934 ms\n",
      "Wall time: 931 ms\n"
     ]
    },
    {
     "data": {
      "text/plain": [
       "<HDF5 dataset \"x\": shape (2000, 2000), type \"<f8\">"
      ]
     },
     "execution_count": 9,
     "metadata": {},
     "output_type": "execute_result"
    }
   ],
   "source": [
    "import h5py\n",
    "%time h5py.File(logdir+'x.h5_gzip', 'w').create_dataset('x', data=x, compression='gzip')"
   ]
  },
  {
   "cell_type": "code",
   "execution_count": 10,
   "metadata": {},
   "outputs": [
    {
     "name": "stdout",
     "output_type": "stream",
     "text": [
      "CPU times: user 137 ms, sys: 12 ms, total: 149 ms\n",
      "Wall time: 148 ms\n"
     ]
    },
    {
     "data": {
      "text/plain": [
       "<HDF5 dataset \"x\": shape (2000, 2000), type \"<f8\">"
      ]
     },
     "execution_count": 10,
     "metadata": {},
     "output_type": "execute_result"
    }
   ],
   "source": [
    "import h5py\n",
    "%time h5py.File(logdir+'x.h5_lzf', 'w').create_dataset('x', data=x, compression='lzf')"
   ]
  },
  {
   "cell_type": "code",
   "execution_count": 40,
   "metadata": {},
   "outputs": [
    {
     "name": "stdout",
     "output_type": "stream",
     "text": [
      "CPU times: user 137 ms, sys: 12.1 ms, total: 149 ms\n",
      "Wall time: 150 ms\n"
     ]
    }
   ],
   "source": [
    "import h5py\n",
    "with h5py.File(logdir+'x.h5_lzf', 'w') as f:\n",
    "    def write(dsetname, a):\n",
    "        f.create_dataset(dsetname, data=a, compression='lzf')\n",
    "    %time write('x',x)"
   ]
  },
  {
   "cell_type": "code",
   "execution_count": 12,
   "metadata": {},
   "outputs": [
    {
     "name": "stdout",
     "output_type": "stream",
     "text": [
      "CPU times: user 94.1 ms, sys: 51.1 ms, total: 145 ms\n",
      "Wall time: 93 ms\n"
     ]
    },
    {
     "data": {
      "text/plain": [
       "carray((2000, 2000), float64)\n",
       "  nbytes := 30.52 MB; cbytes := 27.14 MB; ratio: 1.12\n",
       "  cparams := cparams(clevel=5, shuffle=1, cname='lz4', quantize=0)\n",
       "  chunklen := 32; chunksize: 512000; blocksize: 32768\n",
       "  rootdir := 'data_array/bcolz'\n",
       "  mode    := 'w'\n",
       "[[ 0.4088873   0.02608459  0.13016727 ...,  0.18862415  0.30075478\n",
       "   0.02447061]\n",
       " [ 0.34429628  0.84285643  0.62440176 ...,  0.25277555  0.49511973\n",
       "   0.9347124 ]\n",
       " [ 0.24118754  0.76635816  0.89680104 ...,  0.92640556  0.35458828\n",
       "   0.79862376]\n",
       " ..., \n",
       " [ 0.73590475  0.60360785  0.0107433  ...,  0.15572024  0.41766816\n",
       "   0.14112706]\n",
       " [ 0.02551004  0.39150602  0.16281551 ...,  0.16897539  0.96894141\n",
       "   0.628273  ]\n",
       " [ 0.15050865  0.50612845  0.1214735  ...,  0.20838497  0.26733341\n",
       "   0.25380589]]"
      ]
     },
     "execution_count": 12,
     "metadata": {},
     "output_type": "execute_result"
    }
   ],
   "source": [
    "import bcolz\n",
    "%time bcolz.carray(x, rootdir=logdir+'bcolz', mode='w')"
   ]
  },
  {
   "cell_type": "code",
   "execution_count": 6,
   "metadata": {},
   "outputs": [],
   "source": [
    "import array_pb2"
   ]
  },
  {
   "cell_type": "code",
   "execution_count": 7,
   "metadata": {},
   "outputs": [],
   "source": [
    "def load_protobuf(path):\n",
    "    pb_data = array_pb2.NDArray()\n",
    "    pb_data.ParseFromString(open(path, 'r').read())\n",
    "    return np.array(pb_data.array, dtype=pb_data.dtype).reshape(tuple(pb_data.shape))"
   ]
  },
  {
   "cell_type": "code",
   "execution_count": 16,
   "metadata": {},
   "outputs": [
    {
     "name": "stdout",
     "output_type": "stream",
     "text": [
      "CPU times: user 53.9 ms, sys: 16.4 ms, total: 70.3 ms\n",
      "Wall time: 70.3 ms\n"
     ]
    }
   ],
   "source": [
    "import array_pb2\n",
    "parray = list(x.flatten().astype(int))\n",
    "with open(\"x.pbf\", \"wb\") as pbf:\n",
    "    arr = array_pb2.NDArray()\n",
    "    arr.array.extend(parray)\n",
    "    arr.shape.extend(list(x.shape))\n",
    "    arr.dtype = x.dtype.name\n",
    "    %time pbf.write(arr.SerializeToString())\n",
    "\n",
    "# with open(\"test2.pbf\", \"wb\") as pbf:\n",
    "#     arr = array_pb2.NDArrayPacked()\n",
    "#     arr.array.extend(parray)\n",
    "#     arr.shape.extend(list(x.shape))\n",
    "#     arr.dtype = x.dtype.name\n",
    "#     pbf.write(arr.SerializeToString())\n",
    "\n",
    "# %time arr8 = load_protobuf(\"test1.pbf\")\n",
    "# %time arr8 = load_protobuf(\"test2.pbf\")"
   ]
  },
  {
   "cell_type": "code",
   "execution_count": null,
   "metadata": {},
   "outputs": [],
   "source": []
  }
 ],
 "metadata": {
  "kernelspec": {
   "display_name": "Python 3.6 (data-types)",
   "language": "python",
   "name": "myenv"
  },
  "language_info": {
   "codemirror_mode": {
    "name": "ipython",
    "version": 3
   },
   "file_extension": ".py",
   "mimetype": "text/x-python",
   "name": "python",
   "nbconvert_exporter": "python",
   "pygments_lexer": "ipython3",
   "version": "3.6.4"
  }
 },
 "nbformat": 4,
 "nbformat_minor": 2
}
